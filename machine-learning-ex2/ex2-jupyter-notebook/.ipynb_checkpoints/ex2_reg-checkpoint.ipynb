{
 "cells": [
  {
   "cell_type": "markdown",
   "metadata": {},
   "source": [
    "# Part 1: Strat"
   ]
  },
  {
   "cell_type": "markdown",
   "metadata": {},
   "source": [
    "## 1-1 Load data and Plot"
   ]
  },
  {
   "cell_type": "code",
   "execution_count": 2,
   "metadata": {},
   "outputs": [
    {
     "data": {
      "image/png": "[encoded data removed]",
      "text/plain": [
       "<Figure size 432x288 with 1 Axes>"
      ]
     },
     "metadata": {
      "needs_background": "light"
     },
     "output_type": "display_data"
    }
   ],
   "source": [
    "import numpy as np\n",
    "import matplotlib.pyplot as plt\n",
    "\n",
    "data = np.loadtxt(\"ex2data2.txt\",delimiter = \",\") \n",
    "X = data[:, 0:2]\n",
    "y = data[:, 2:]\n",
    "pos_index, _ = np.where(y == 1)\n",
    "neg_index, _ = np.where(y == 0)\n",
    "plt.scatter(X[pos_index, 0], X[pos_index, 1], marker=\"+\", label=\"y = 1\")\n",
    "plt.scatter(X[neg_index, 0], X[neg_index, 1], marker=\"o\", label=\"y = 0\")\n",
    "plt.legend()\n",
    "plt.xlabel(\"Microchip Test 1\")\n",
    "plt.ylabel(\"Microchip Test 2\")\n",
    "plt.show()"
   ]
  },
  {
   "cell_type": "markdown",
   "metadata": {},
   "source": [
    "## 1-2 The implementation of Sigmoid Function"
   ]
  },
  {
   "cell_type": "code",
   "execution_count": 3,
   "metadata": {},
   "outputs": [],
   "source": [
    "def sigmoid(z):\n",
    "    return 1/(1+np.exp(-z))"
   ]
  },
  {
   "cell_type": "markdown",
   "metadata": {},
   "source": [
    "## 1-3 Test for Sigmoid Function"
   ]
  },
  {
   "cell_type": "code",
   "execution_count": 4,
   "metadata": {},
   "outputs": [
    {
     "data": {
      "image/png": "[encoded data removed]",
      "text/plain": [
       "<Figure size 432x288 with 1 Axes>"
      ]
     },
     "metadata": {
      "needs_background": "light"
     },
     "output_type": "display_data"
    }
   ],
   "source": [
    "plt.plot(np.linspace(-10,10, 100), sigmoid(np.linspace(-10,10, 100)))\n",
    "plt.xlabel(\"z\")\n",
    "plt.ylabel(\"sigmoid(z)\")\n",
    "plt.show()"
   ]
  },
  {
   "cell_type": "markdown",
   "metadata": {},
   "source": [
    "# Part 2: Regularized Logistic Regression"
   ]
  },
  {
   "cell_type": "markdown",
   "metadata": {},
   "source": [
    "## 2-1 The implementations of  mapFeature"
   ]
  },
  {
   "cell_type": "code",
   "execution_count": 5,
   "metadata": {},
   "outputs": [],
   "source": [
    "def mapFeature(X1, X2):\n",
    "    degree = 6\n",
    "    dimensional = 28 \n",
    "    k = 0\n",
    "    out = np.ones([np.size(X1, axis=0), 28])\n",
    "    for i in range(0, degree+1):\n",
    "        for j in range(0, i+1):\n",
    "            out[:, k:k+1] = np.power(X1, (i-j))*np.power(X2, j)\n",
    "            k = k + 1\n",
    "    return out"
   ]
  },
  {
   "cell_type": "markdown",
   "metadata": {},
   "source": [
    "## 2-2 The implementations of Cost and Gradient Funciton for Regularized Logistic"
   ]
  },
  {
   "cell_type": "code",
   "execution_count": 6,
   "metadata": {},
   "outputs": [],
   "source": [
    "def compute_cost_reg(theta, X, y, ilambda=0):\n",
    "    m, n = X.shape # the number of training example and the number of features.\n",
    "    temp_theta = theta[1:]\n",
    "    J = (-1/m) * (np.dot(y.T, np.log(sigmoid(np.dot(X, theta)))) + np.dot((1-y).T, np.log(1-sigmoid(np.dot(X, theta))))) + (ilambda/(2*m))*np.dot(temp_theta.T, temp_theta)\n",
    "    return J\n",
    "   \n",
    "def compute_grad_reg(theta, X, y, ilambda):\n",
    "    m, n = X.shape # the number of tra(ining e/(2*m))xample and the number of features\n",
    "    temp_theta = theta[1:]\n",
    "    grad = np.zeros([n, 1])\n",
    "    grad[0] = (1/m) * (np.dot(X[:, 0:1].T, (sigmoid(np.dot(X, theta))-y)))\n",
    "    grad[1:] = (1/m) * (np.dot(X[:, 1:].T, (sigmoid(np.dot(X, theta))-y))) + (ilambda/m)*temp_theta\n",
    "    return grad"
   ]
  },
  {
   "cell_type": "markdown",
   "metadata": {},
   "source": [
    "## 2-3 Initialize fitting parameters"
   ]
  },
  {
   "cell_type": "code",
   "execution_count": 7,
   "metadata": {},
   "outputs": [],
   "source": [
    "X = mapFeature(X[:,0:1], X[:,1:]);\n",
    "initial_theta = np.zeros([np.size(X, axis=1), 1])\n",
    "ilambda = 1 # regularization parameter lambda to 1"
   ]
  },
  {
   "cell_type": "markdown",
   "metadata": {},
   "source": [
    "## 2-4 Compute Cost and Gradient"
   ]
  },
  {
   "cell_type": "code",
   "execution_count": 8,
   "metadata": {},
   "outputs": [
    {
     "name": "stdout",
     "output_type": "stream",
     "text": [
      "Cost at initial theta (zeros): [[0.69314718]]\n",
      "Expected cost (approx): 0.693\n",
      "Gradient at initial theta (zeros) - first five values only:\n",
      "[[8.47457627e-03]\n",
      " [1.87880932e-02]\n",
      " [7.77711864e-05]\n",
      " [5.03446395e-02]\n",
      " [1.15013308e-02]]\n",
      "Expected gradients (approx) - first five values only:\n",
      " 0.0085\n",
      " 0.0188\n",
      " 0.0001\n",
      " 0.0503\n",
      " 0.0115\n",
      "\n",
      "------------------------------------------------\n",
      "\n",
      "Cost at test theta (with lambda = 10): [[3.16450933]]\n",
      "Expected cost (approx): 3.16\n",
      "Gradient at test theta - first five values only:\n",
      "[[0.34604507]\n",
      " [0.16135192]\n",
      " [0.19479576]\n",
      " [0.22686278]\n",
      " [0.09218568]]\n",
      "Expected gradients (approx) - first five values only:\n",
      " 0.3460\n",
      " 0.1614\n",
      " 0.1948\n",
      " 0.2269\n",
      " 0.0922\n",
      "\n"
     ]
    }
   ],
   "source": [
    "# lambda = 1\n",
    "cost = compute_cost_reg(initial_theta, X, y, ilambda)\n",
    "grad = compute_grad_reg(initial_theta, X, y, ilambda)\n",
    "print('Cost at initial theta (zeros):', cost);\n",
    "print('Expected cost (approx): 0.693');\n",
    "print('Gradient at initial theta (zeros) - first five values only:');\n",
    "print(grad[0:5]);\n",
    "print('Expected gradients (approx) - first five values only:');\n",
    "print(' 0.0085\\n 0.0188\\n 0.0001\\n 0.0503\\n 0.0115\\n');\n",
    "print(\"------------------------------------------------\")\n",
    "# lambda = 10\n",
    "test_theta = np.ones([np.size(X, axis=1), 1])\n",
    "cost = compute_cost_reg(test_theta, X, y, 10)\n",
    "grad = compute_grad_reg(test_theta, X, y, 10)\n",
    "print('\\nCost at test theta (with lambda = 10):', cost);\n",
    "print('Expected cost (approx): 3.16');\n",
    "print('Gradient at test theta - first five values only:');\n",
    "print(grad[0:5]);\n",
    "print('Expected gradients (approx) - first five values only:');\n",
    "print(' 0.3460\\n 0.1614\\n 0.1948\\n 0.2269\\n 0.0922\\n');\n"
   ]
  },
  {
   "cell_type": "markdown",
   "metadata": {},
   "source": [
    "# Part 3: Regularization and Accuracies"
   ]
  },
  {
   "cell_type": "markdown",
   "metadata": {},
   "source": [
    "## 3-1 initialize fitting parameters"
   ]
  },
  {
   "cell_type": "code",
   "execution_count": 9,
   "metadata": {},
   "outputs": [],
   "source": [
    "initial_theta = np.zeros([np.size(X, axis=1), 1])\n",
    "ilambda = 1 # regularization parameter lambda to 1"
   ]
  },
  {
   "cell_type": "markdown",
   "metadata": {},
   "source": [
    "## 3-2 Optimize"
   ]
  },
  {
   "cell_type": "code",
   "execution_count": 10,
   "metadata": {},
   "outputs": [],
   "source": [
    "from scipy import optimize\n",
    "result = optimize.minimize(compute_cost_reg, initial_theta, args=(X, y, ilambda), method='BFGS', options={\"maxiter\": 400, \"disp\": False})\n",
    "theta = np.array([result.x])\n",
    "cost = result.fun"
   ]
  },
  {
   "cell_type": "markdown",
   "metadata": {},
   "source": [
    "## 3-3 The implementation of  non-Decision Boundary Plot Function"
   ]
  },
  {
   "cell_type": "code",
   "execution_count": 11,
   "metadata": {},
   "outputs": [],
   "source": [
    "def plot_non_linear_decision_boundary(theta, X, y):\n",
    "    u = np.linspace(-1, 1.5, 50)\n",
    "    v = np.linspace(-1, 1.5, 50)\n",
    "    z = np.zeros([len(u), len(v)])\n",
    "    # evaluate z = theta*x over the grid\n",
    "    for i in range(0, len(u)):\n",
    "        for j in range(0, len(v)):\n",
    "            z[i, j] = np.dot(mapFeature(np.array([u[i]]), np.array(v[j])), theta.T)\n",
    "    z = z.T\n",
    "    plt.contourf(u, v, z, 0)\n",
    "    plt.contour(u, v, z, colors=\"black\")"
   ]
  },
  {
   "cell_type": "markdown",
   "metadata": {},
   "source": [
    "## 3-4 Plot Boundary"
   ]
  },
  {
   "cell_type": "code",
   "execution_count": 12,
   "metadata": {},
   "outputs": [
    {
     "data": {
      "image/png": "[encoded data removed]",
      "text/plain": [
       "<Figure size 432x288 with 1 Axes>"
      ]
     },
     "metadata": {
      "needs_background": "light"
     },
     "output_type": "display_data"
    }
   ],
   "source": [
    "data = np.loadtxt(\"ex2data2.txt\",delimiter = \",\") \n",
    "X1 = data[:, 0:2]\n",
    "y1 = data[:, 2:]\n",
    "pos_index, _ = np.where(y1 == 1)\n",
    "neg_index, _ = np.where(y1 == 0)\n",
    "plot_non_linear_decision_boundary(theta, X1,y1)\n",
    "plt.scatter(X1[pos_index, 0], X1[pos_index, 1], marker=\"+\", label=\"y = 1\")\n",
    "plt.scatter(X1[neg_index, 0], X1[neg_index, 1], marker=\"o\", label=\"y = 0\")\n",
    "plt.legend()\n",
    "plt.xlabel(\"Microchip Test 1\")\n",
    "plt.ylabel(\"Microchip Test 2\")\n",
    "plt.show()"
   ]
  },
  {
   "cell_type": "markdown",
   "metadata": {},
   "source": [
    "## 3-5 The implementation of predict function"
   ]
  },
  {
   "cell_type": "code",
   "execution_count": 13,
   "metadata": {},
   "outputs": [],
   "source": [
    "def predict(X, theta):\n",
    "    m = np.size(X) #number of training examples\n",
    "    p = sigmoid(np.dot(X, theta))\n",
    "    # find index of output = 1 (probability of predictions >= 0.5)\n",
    "    pos_index, _ = np.where(p >= 0.5)\n",
    "    # find index of output = 0 (probability of predictions < 0.5)\n",
    "    neg_index, _ = np.where(p < 0.5)\n",
    "    p[pos_index, 0] = 1\n",
    "    p[neg_index, 0] = 0\n",
    "    return p"
   ]
  },
  {
   "cell_type": "markdown",
   "metadata": {},
   "source": [
    "## 3-6 Compute accuracy on our training set"
   ]
  },
  {
   "cell_type": "code",
   "execution_count": 14,
   "metadata": {},
   "outputs": [
    {
     "name": "stdout",
     "output_type": "stream",
     "text": [
      "Train Accuracy: [83.05084746]\n",
      "Expected accuracy (with lambda = 1): 83.1 (approx)\n"
     ]
    }
   ],
   "source": [
    "# Compute accuracy on our training set\n",
    "p = predict(X, theta.T)\n",
    "print('Train Accuracy:', sum(p==y)/np.size(y)*100);\n",
    "print('Expected accuracy (with lambda = 1): 83.1 (approx)');"
   ]
  }
 ],
 "metadata": {
  "kernelspec": {
   "display_name": "Python 3",
   "language": "python",
   "name": "python3"
  },
  "language_info": {
   "codemirror_mode": {
    "name": "ipython",
    "version": 3
   },
   "file_extension": ".py",
   "mimetype": "text/x-python",
   "name": "python",
   "nbconvert_exporter": "python",
   "pygments_lexer": "ipython3",
   "version": "3.6.8"
  }
 },
 "nbformat": 4,
 "nbformat_minor": 2
}
