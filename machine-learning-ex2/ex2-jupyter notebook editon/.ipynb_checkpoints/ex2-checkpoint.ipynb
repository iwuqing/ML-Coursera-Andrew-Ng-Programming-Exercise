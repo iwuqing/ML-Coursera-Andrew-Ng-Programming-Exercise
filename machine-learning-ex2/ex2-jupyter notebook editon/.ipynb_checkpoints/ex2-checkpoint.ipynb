{
 "cells": [
  {
   "cell_type": "markdown",
   "metadata": {},
   "source": [
    "# Part 1: Load Data and Plotting "
   ]
  },
  {
   "cell_type": "code",
   "execution_count": 2,
   "metadata": {},
   "outputs": [
    {
     "name": "stdout",
     "output_type": "stream",
     "text": [
      "Plotting data with + indicating(y = 1) examples and o indicating(y = 0) examples\n"
     ]
    },
    {
     "data": {
      "image/png": "[encoded data removed]",
      "text/plain": [
       "<Figure size 432x288 with 1 Axes>"
      ]
     },
     "metadata": {
      "needs_background": "light"
     },
     "output_type": "display_data"
    }
   ],
   "source": [
    "import numpy as np\n",
    "import matplotlib.pyplot as plt\n",
    "# load data\n",
    "data = np.loadtxt(\"ex2data1.txt\", delimiter=\",\")\n",
    "X = data[:, 0:2]\n",
    "y = data[:, 2:]\n",
    "#=========================\n",
    "# plot\n",
    "print(\"Plotting data with + indicating(y = 1) examples and o indicating(y = 0) examples\")\n",
    "# find index of positive and negative examples\n",
    "pos_index, _ = np.where(y == 1)\n",
    "neg_index, _ = np.where(y == 0)\n",
    "plt.scatter(X[pos_index, 0], X[pos_index, 1], marker=\"+\", label=\"Admitted\")\n",
    "plt.scatter(X[neg_index, 0], X[neg_index, 1], marker=\"o\", label=\"Not admitted\")\n",
    "plt.legend()\n",
    "plt.xlabel(\"Exam 1 score\")\n",
    "plt.ylabel(\"Exam 2 score\")\n",
    "plt.show()"
   ]
  },
  {
   "cell_type": "markdown",
   "metadata": {},
   "source": [
    "# Part 2: Compute Cost and Gradient"
   ]
  },
  {
   "cell_type": "markdown",
   "metadata": {},
   "source": [
    "## 2-1 The implementation of Sigmoid Function"
   ]
  },
  {
   "cell_type": "code",
   "execution_count": 3,
   "metadata": {},
   "outputs": [],
   "source": [
    "def sigmoid(z):\n",
    "    return 1/(1+np.exp(-z))"
   ]
  },
  {
   "cell_type": "markdown",
   "metadata": {},
   "source": [
    "## 2-2 Test for Sigmoid Function"
   ]
  },
  {
   "cell_type": "code",
   "execution_count": 4,
   "metadata": {},
   "outputs": [
    {
     "data": {
      "image/png": "[encoded data removed]",
      "text/plain": [
       "<Figure size 432x288 with 1 Axes>"
      ]
     },
     "metadata": {
      "needs_background": "light"
     },
     "output_type": "display_data"
    }
   ],
   "source": [
    "plt.plot(np.linspace(-10,10, 100), sigmoid(np.linspace(-10,10, 100)))\n",
    "plt.xlabel(\"z\")\n",
    "plt.ylabel(\"sigmoid(z)\")\n",
    "plt.show()"
   ]
  },
  {
   "cell_type": "markdown",
   "metadata": {},
   "source": [
    "## 2-3 The implementations of Cost function and Gradient  function"
   ]
  },
  {
   "cell_type": "code",
   "execution_count": 5,
   "metadata": {},
   "outputs": [],
   "source": [
    "def compute_cost(theta, X, y):\n",
    "    m = len(y) # the number of tarining example\n",
    "    J = (-1/m) * (np.dot(y.T, np.log(sigmoid(np.dot(X, theta)))) + np.dot((1-y).T, np.log(1-sigmoid(np.dot(X, theta)))))\n",
    "    return J\n",
    "\n",
    "def compute_grad(theta, X, y):\n",
    "    m = len(y) # the number of tarining example\n",
    "    grad = (1/m) * (np.dot(X.T, (sigmoid(np.dot(X, theta))-y)))\n",
    "    return grad"
   ]
  },
  {
   "cell_type": "markdown",
   "metadata": {},
   "source": [
    "## 2-4 Initialize parameters "
   ]
  },
  {
   "cell_type": "code",
   "execution_count": 6,
   "metadata": {},
   "outputs": [],
   "source": [
    "# the size of input matrix in training examples\n",
    "m, n = X.shape\n",
    "# add intercept term to X\n",
    "X = np.hstack((np.ones([m, 1]), X))\n",
    "# initialize theta\n",
    "theta = np.zeros([n+1, 1]);"
   ]
  },
  {
   "cell_type": "markdown",
   "metadata": {},
   "source": [
    "## 2-5 Compute and display initial cost and gradient"
   ]
  },
  {
   "cell_type": "code",
   "execution_count": 7,
   "metadata": {},
   "outputs": [
    {
     "name": "stdout",
     "output_type": "stream",
     "text": [
      "Cost at initial theta (zeros):[[0.69314718]]\n",
      "Expected cost (approx): 0.693\n",
      "[[ -0.1       ]\n",
      " [-12.00921659]\n",
      " [-11.26284221]]\n",
      "Expected gradients (approx):\n",
      " -0.1000\n",
      " -12.0092\n",
      " -11.2628\n",
      "\n"
     ]
    }
   ],
   "source": [
    "cost = compute_cost(theta, X, y)\n",
    "grad = compute_grad(theta, X, y)\n",
    "print(\"Cost at initial theta (zeros):\" + str(cost))\n",
    "print(\"Expected cost (approx): 0.693\")\n",
    "print(grad)\n",
    "print(\"Expected gradients (approx):\\n -0.1000\\n -12.0092\\n -11.2628\\n\")"
   ]
  },
  {
   "cell_type": "markdown",
   "metadata": {},
   "source": [
    "# Part 3: Optimizing using fminunc"
   ]
  },
  {
   "cell_type": "markdown",
   "metadata": {},
   "source": [
    "## 3-1 optimal parameters theta"
   ]
  },
  {
   "cell_type": "code",
   "execution_count": 8,
   "metadata": {},
   "outputs": [
    {
     "name": "stdout",
     "output_type": "stream",
     "text": [
      "Optimization terminated successfully.\n",
      "         Current function value: 0.203498\n",
      "         Iterations: 157\n",
      "         Function evaluations: 287\n",
      "Cost at theta found by fminunc: 0.2034977015902151\n",
      "Expected cost (approx): 0.203\n",
      "\n",
      "--------------------------------\n",
      "theta:\n",
      "[[-25.16130062]\n",
      " [  0.20623142]\n",
      " [  0.20147143]]\n",
      "Expected theta (approx):\n",
      "\n",
      " -25.161\n",
      " 0.206\n",
      " 0.201\n",
      "\n"
     ]
    }
   ],
   "source": [
    "from scipy import optimize\n",
    "result = optimize.fmin(compute_cost, x0=theta, args=(X, y), maxiter=400, full_output=True)\n",
    "theta = np.array([result[0]]).T\n",
    "cost = result[1]\n",
    "# Print theta to screen\n",
    "print('Cost at theta found by fminunc:', str(cost))\n",
    "print('Expected cost (approx): 0.203\\n')\n",
    "print(\"--------------------------------\")\n",
    "print('theta:')\n",
    "print(theta)\n",
    "print('Expected theta (approx):\\n')\n",
    "print(' -25.161\\n 0.206\\n 0.201\\n')"
   ]
  },
  {
   "cell_type": "markdown",
   "metadata": {},
   "source": [
    "## 3-2 The implementation of Plot Boundary Function"
   ]
  },
  {
   "cell_type": "code",
   "execution_count": 9,
   "metadata": {},
   "outputs": [],
   "source": [
    "def plot_linear_decision_boundary(theta, X, y):\n",
    "    plot_x = np.linspace(X[:, 1].min()-2, X[:, 1].max()+2, 100)\n",
    "    plot_y = (-1/theta[2, 0])*(theta[1, 0]*plot_x + theta[0, 0])\n",
    "    plt.plot(plot_x, plot_y, label=\"Linear Decision Boundary\", c=\"k\")\n",
    "    plt.legend()"
   ]
  },
  {
   "cell_type": "code",
   "execution_count": 10,
   "metadata": {},
   "outputs": [
    {
     "data": {
      "image/png": "[encoded data removed]",
      "text/plain": [
       "<Figure size 432x288 with 1 Axes>"
      ]
     },
     "metadata": {
      "needs_background": "light"
     },
     "output_type": "display_data"
    }
   ],
   "source": [
    "pos_index, _ = np.where(y == 1)\n",
    "neg_index, _ = np.where(y == 0)\n",
    "plt.scatter(X[pos_index, 1], X[pos_index, 2], marker=\"+\", label=\"Admitted\")\n",
    "plt.scatter(X[neg_index, 1], X[neg_index, 2], marker=\"o\", label=\"Not Admitted\")\n",
    "plt.legend()\n",
    "plt.xlabel(\"Exam 1 score\")\n",
    "plt.ylabel(\"Exam 2 score\")\n",
    "plot_linear_decision_boundary(theta, X, y)\n",
    "plt.show()"
   ]
  },
  {
   "cell_type": "markdown",
   "metadata": {},
   "source": [
    "# Part 4: Predict and Accuracies"
   ]
  },
  {
   "cell_type": "markdown",
   "metadata": {},
   "source": [
    "## 4-1 The implementation of predict function"
   ]
  },
  {
   "cell_type": "code",
   "execution_count": 11,
   "metadata": {},
   "outputs": [],
   "source": [
    "def predict(X, theta):\n",
    "    m = np.size(X) #number of training examples\n",
    "    p = sigmoid(np.dot(X, theta))\n",
    "    # find index of output = 1 (probability of predictions >= 0.5)\n",
    "    pos_index, _ = np.where(p >= 0.5)\n",
    "    # find index of output = 0 (probability of predictions < 0.5)\n",
    "    neg_index, _ = np.where(p < 0.5)\n",
    "    p[pos_index, 0] = 1\n",
    "    p[neg_index, 0] = 0\n",
    "    return p"
   ]
  },
  {
   "cell_type": "markdown",
   "metadata": {},
   "source": [
    "\n",
    "## 4-2 Test for predict function"
   ]
  },
  {
   "cell_type": "code",
   "execution_count": 12,
   "metadata": {},
   "outputs": [
    {
     "name": "stdout",
     "output_type": "stream",
     "text": [
      "For a student with scores 45 and 85, we predict an admission probability of [[0.77629159]]\n",
      "Expected value: 0.775 +/- 0.002\n",
      "\n",
      "\n",
      "Train Accuracy: [89.]\n",
      "Expected accuracy (approx): 89.0\n",
      "\n"
     ]
    }
   ],
   "source": [
    "prob = sigmoid(np.dot(np.array([[1, 45, 85]]), theta))\n",
    "print('For a student with scores 45 and 85, we predict an admission probability of', str(prob));\n",
    "print('Expected value: 0.775 +/- 0.002\\n\\n');\n",
    "\n",
    "# Compute accuracy on our training set\n",
    "p = predict(X, theta)\n",
    "print('Train Accuracy:', sum(p==y)/np.size(y)*100);\n",
    "print('Expected accuracy (approx): 89.0\\n');"
   ]
  }
 ],
 "metadata": {
  "kernelspec": {
   "display_name": "Python 3",
   "language": "python",
   "name": "python3"
  },
  "language_info": {
   "codemirror_mode": {
    "name": "ipython",
    "version": 3
   },
   "file_extension": ".py",
   "mimetype": "text/x-python",
   "name": "python",
   "nbconvert_exporter": "python",
   "pygments_lexer": "ipython3",
   "version": "3.6.8"
  }
 },
 "nbformat": 4,
 "nbformat_minor": 2
}
