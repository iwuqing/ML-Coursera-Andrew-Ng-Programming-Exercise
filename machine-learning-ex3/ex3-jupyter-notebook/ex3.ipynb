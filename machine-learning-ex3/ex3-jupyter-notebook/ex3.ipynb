{
 "cells": [
  {
   "cell_type": "markdown",
   "metadata": {},
   "source": [
    "# Part 1: Loading and Visualizing Data"
   ]
  }, 
  {
   "cell_type": "markdown",
   "metadata": {},
   "source": [
    "## 1-1 Load Training Data"
   ]
  },
  {
   "cell_type": "code",
   "execution_count": 1,
   "metadata": {},
   "outputs": [],
   "source": [
    "import scipy.io\n",
    "\n",
    "data = scipy.io.loadmat(\"ex3data1.mat\")\n",
    "X = data[\"X\"]\n",
    "y = data[\"y\"]"
   ]
  },
  {
   "cell_type": "markdown",
   "metadata": {},
   "source": [
    "## 1-2 Randomly select 1 data points to display"
   ]
  },
  {
   "cell_type": "code",
   "execution_count": 3,
   "metadata": {},
   "outputs": [
    {
     "data": {
      "image/png": "[encoded data removed]",
      "text/plain": [
       "<Figure size 432x288 with 1 Axes>"
      ]
     },
     "metadata": {
      "needs_background": "light"
     },
     "output_type": "display_data"
    }
   ],
   "source": [
    "import numpy as np\n",
    "import random\n",
    "import matplotlib.pyplot as plt\n",
    "\n",
    "# m:  the number  of train data \n",
    "# n:  the number of  input feature\n",
    "m, n = X.shape\n",
    "\n",
    "rand_indices = random.sample(range(0, m+1), m)\n",
    "sel = X[rand_indices[0 : 1], :].reshape(20, 20)\n",
    "tempsel = np.zeros([20, 20])\n",
    "k = 0\n",
    "for i in range(0, 20):\n",
    "    for j in range(0, 20):\n",
    "        tempsel[j, i] = sel[i, j]\n",
    "plt.imshow(tempsel, cmap=plt.cm.copper)\n",
    "plt.show()"
   ]
  },
  {
   "cell_type": "markdown",
   "metadata": {},
   "source": [
    "# Part 2: Vectorize Logistic Regression"
   ]
  },
  {
   "cell_type": "markdown",
   "metadata": {},
   "source": [
    "## 2-1 The implementation of sigmoid function"
   ]
  },
  {
   "cell_type": "code",
   "execution_count": 4,
   "metadata": {},
   "outputs": [],
   "source": [
    "def sigmoid(z):\n",
    "    return 1 / (1 +np.exp(-z))"
   ]
  },
  {
   "cell_type": "markdown",
   "metadata": {},
   "source": [
    "## 2-1 The implementations of Cost and Gradient Funciton for Regularized Logistic"
   ]
  },
  {
   "cell_type": "code",
   "execution_count": 5,
   "metadata": {},
   "outputs": [],
   "source": [
    "def compute_cost_reg(theta, X, y, ilambda=0):\n",
    "    m, n = X.shape # the number of training example and the number of features.\n",
    "    temp_theta = theta[1:]\n",
    "    J = (-1/m) * (np.dot(y.T, np.log(sigmoid(np.dot(X, theta)))) + np.dot((1-y).T, np.log(1-sigmoid(np.dot(X, theta))))) + (ilambda/(2*m))*np.dot(temp_theta.T, temp_theta)\n",
    "    return J\n",
    "   \n",
    "def compute_grad_reg(theta, X, y, ilambda):\n",
    "    m, n = X.shape # the number of tra(ining e/(2*m))xample and the number of features\n",
    "    temp_theta = theta[1:]\n",
    "    grad = np.zeros([n, 1])\n",
    "    grad[0] = (1/m) * (np.dot(X[:, 0:1].T, (sigmoid(np.dot(X, theta))-y)))\n",
    "    grad[1:] = (1/m) * (np.dot(X[:, 1:].T, (sigmoid(np.dot(X, theta))-y))) + (ilambda/m)*temp_theta\n",
    "    return grad"
   ]
  },
  {
   "cell_type": "markdown",
   "metadata": {},
   "source": [
    "## 2-2 Test lrCostFunction"
   ]
  },
  {
   "cell_type": "code",
   "execution_count": 6,
   "metadata": {},
   "outputs": [
    {
     "name": "stdout",
     "output_type": "stream",
     "text": [
      "Testing lrCostFunction with regularization\n",
      "Cost:  [[2.5348194]]\n",
      "Expected cost: 2.534819\n",
      "Gradients:\n",
      "[[ 0.14656137]\n",
      " [-0.54855841]\n",
      " [ 0.72472227]\n",
      " [ 1.39800296]]\n",
      "Expected gradients:\n",
      " 0.146561\n",
      " -0.548558\n",
      " 0.724722\n",
      " 1.398003\n",
      "\n"
     ]
    }
   ],
   "source": [
    "print(\"Testing lrCostFunction with regularization\")\n",
    "\n",
    "theta_t = np.array([[-2, -1, 1, 2]]).T\n",
    "X_t = np.hstack((np.ones([5, 1]), np.linspace(1, 15, num=15).reshape(3, 5).T/10))\n",
    "y_t = np.array([[1, 0, 1, 0, 1]]).T\n",
    "lambda_t = 3\n",
    "J = compute_cost_reg(theta_t, X_t, y_t, lambda_t)\n",
    "grad = compute_grad_reg(theta_t, X_t, y_t, lambda_t)\n",
    "print('Cost: ', J);\n",
    "print('Expected cost: 2.534819');\n",
    "print('Gradients:');\n",
    "print( grad);\n",
    "print('Expected gradients:');\n",
    "print(' 0.146561\\n -0.548558\\n 0.724722\\n 1.398003\\n');"
   ]
  },
  {
   "cell_type": "markdown",
   "metadata": {},
   "source": [
    "# Part 3: One-vs-All Training"
   ]
  },
  {
   "cell_type": "markdown",
   "metadata": {},
   "source": [
    "## 3-1 The implementation of ioptimize function"
   ]
  },
  {
   "cell_type": "code",
   "execution_count": 7,
   "metadata": {},
   "outputs": [],
   "source": [
    "from scipy import optimize\n",
    "def ioptimize(X, y, initial_theta, ilambda, iters=100):\n",
    "    result = optimize.minimize(compute_cost_reg, initial_theta, args=(X, y, ilambda), method='BFGS', options={\"maxiter\": iters, \"disp\": True})\n",
    "    theta = np.array([result.x])\n",
    "    return theta"
   ]
  },
  {
   "cell_type": "markdown",
   "metadata": {},
   "source": [
    "## 3-2 The implementation of oneVsAll function"
   ]
  },
  {
   "cell_type": "code",
   "execution_count": 8,
   "metadata": {},
   "outputs": [],
   "source": [
    "from scipy import optimize\n",
    "\n",
    "def oneVsAll(X, y, num_labels, ilambda):\n",
    "    m, n = X.shape\n",
    "    all_theta = np.zeros([num_labels, n+1])\n",
    "    X = np.hstack((np.ones([m, 1]), X))\n",
    "    for i in range(0, num_labels):\n",
    "        initial_theta = np.zeros([n+1, 1])\n",
    "        pos_index,_  = np.where(y==i+1)\n",
    "        temp_y = np.zeros([m, 1])\n",
    "        temp_y[pos_index, 0:] = 1\n",
    "        all_theta[i, :] = ioptimize(X, temp_y, initial_theta, ilambda, 50)\n",
    "    return all_theta"
   ]
  },
  {
   "cell_type": "markdown",
   "metadata": {},
   "source": [
    "## 3-3 initial parameters"
   ]
  },
  {
   "cell_type": "code",
   "execution_count": 9,
   "metadata": {},
   "outputs": [
    {
     "name": "stdout",
     "output_type": "stream",
     "text": [
      "Warning: Maximum number of iterations has been exceeded.\n",
      "         Current function value: 0.023312\n",
      "         Iterations: 50\n",
      "         Function evaluations: 20553\n",
      "         Gradient evaluations: 51\n",
      "Warning: Maximum number of iterations has been exceeded.\n",
      "         Current function value: 0.068360\n",
      "         Iterations: 50\n",
      "         Function evaluations: 20553\n",
      "         Gradient evaluations: 51\n",
      "Warning: Maximum number of iterations has been exceeded.\n",
      "         Current function value: 0.071812\n",
      "         Iterations: 50\n",
      "         Function evaluations: 20553\n",
      "         Gradient evaluations: 51\n",
      "Warning: Maximum number of iterations has been exceeded.\n",
      "         Current function value: 0.050061\n",
      "         Iterations: 50\n",
      "         Function evaluations: 20553\n",
      "         Gradient evaluations: 51\n",
      "Warning: Maximum number of iterations has been exceeded.\n",
      "         Current function value: 0.075951\n",
      "         Iterations: 50\n",
      "         Function evaluations: 20553\n",
      "         Gradient evaluations: 51\n",
      "Warning: Maximum number of iterations has been exceeded.\n",
      "         Current function value: 0.032799\n",
      "         Iterations: 50\n",
      "         Function evaluations: 20553\n",
      "         Gradient evaluations: 51\n",
      "Warning: Maximum number of iterations has been exceeded.\n",
      "         Current function value: 0.045323\n",
      "         Iterations: 50\n",
      "         Function evaluations: 20553\n",
      "         Gradient evaluations: 51\n",
      "Warning: Maximum number of iterations has been exceeded.\n",
      "         Current function value: 0.093309\n",
      "         Iterations: 50\n",
      "         Function evaluations: 20553\n",
      "         Gradient evaluations: 51\n",
      "Warning: Maximum number of iterations has been exceeded.\n",
      "         Current function value: 0.087920\n",
      "         Iterations: 50\n",
      "         Function evaluations: 20553\n",
      "         Gradient evaluations: 51\n",
      "Warning: Maximum number of iterations has been exceeded.\n",
      "         Current function value: 0.016445\n",
      "         Iterations: 50\n",
      "         Function evaluations: 20553\n",
      "         Gradient evaluations: 51\n"
     ]
    }
   ],
   "source": [
    "ilambda = 0.1\n",
    "input_layer_size  = 400\n",
    "num_labels = 10\n",
    "all_theta = oneVsAll(X, y, num_labels, ilambda)"
   ]
  },
  {
   "cell_type": "markdown",
   "metadata": {},
   "source": [
    "# Part 4: Predict for One-Vs-All "
   ]
  },
  {
   "cell_type": "markdown",
   "metadata": {},
   "source": [
    "## 4-1 The implementation of predictOneVsAll funcion"
   ]
  },
  {
   "cell_type": "code",
   "execution_count": 10,
   "metadata": {},
   "outputs": [],
   "source": [
    "def predictOneVsAll(theta, X):\n",
    "    # the number of labels\n",
    "    number_labels, _  = theta.shape\n",
    "    # the number of example and  feature: m, n\n",
    "    m, n = X.shape\n",
    "    p = sigmoid(np.dot(X, theta))\n",
    "    _, p = np.where(p==np.array([np.max(p, axis=1)]).T)\n",
    "    return p +1"
   ]
  },
  {
   "cell_type": "markdown",
   "metadata": {},
   "source": [
    "## 4-2 Test for predict function"
   ]
  },
  {
   "cell_type": "code",
   "execution_count": 11,
   "metadata": {},
   "outputs": [
    {
     "name": "stdout",
     "output_type": "stream",
     "text": [
      "              precision    recall  f1-score   support\n",
      "\n",
      "           1       0.96      0.97      0.97       500\n",
      "           2       0.93      0.90      0.91       500\n",
      "           3       0.93      0.90      0.92       500\n",
      "           4       0.94      0.94      0.94       500\n",
      "           5       0.90      0.90      0.90       500\n",
      "           6       0.95      0.97      0.96       500\n",
      "           7       0.94      0.93      0.94       500\n",
      "           8       0.90      0.91      0.91       500\n",
      "           9       0.90      0.91      0.90       500\n",
      "          10       0.97      0.99      0.98       500\n",
      "\n",
      "   micro avg       0.93      0.93      0.93      5000\n",
      "   macro avg       0.93      0.93      0.93      5000\n",
      "weighted avg       0.93      0.93      0.93      5000\n",
      "\n"
     ]
    }
   ],
   "source": [
    "from sklearn.metrics import classification_report\n",
    "pred = predictOneVsAll(all_theta.T, np.hstack((np.ones([m, 1]), X)));\n",
    "print(classification_report(y, pred))"
   ]
  }
 ],
 "metadata": {
  "kernelspec": {
   "display_name": "Python 3",
   "language": "python",
   "name": "python3"
  },
  "language_info": {
   "codemirror_mode": {
    "name": "ipython",
    "version": 3
   },
   "file_extension": ".py",
   "mimetype": "text/x-python",
   "name": "python",
   "nbconvert_exporter": "python",
   "pygments_lexer": "ipython3",
   "version": "3.7.1"
  }
 },
 "nbformat": 4,
 "nbformat_minor": 2
}
