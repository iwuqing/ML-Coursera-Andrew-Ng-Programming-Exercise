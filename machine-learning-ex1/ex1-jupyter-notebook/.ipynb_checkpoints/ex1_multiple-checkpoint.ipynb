{
 "cells": [
  {
   "cell_type": "markdown",
   "metadata": {},
   "source": [
    "# Part 1: Feature Normalization"
   ]
  },
  {
   "cell_type": "markdown",
   "metadata": {},
   "source": [
    "## 1-1 Load Data and Print"
   ]
  },
  {
   "cell_type": "code",
   "execution_count": 1,
   "metadata": {},
   "outputs": [
    {
     "name": "stdout",
     "output_type": "stream",
     "text": [
      "Loading data...\n",
      "first 10 examples from the dataset:\n",
      "[[1.600e+03 3.000e+00]\n",
      " [2.400e+03 3.000e+00]\n",
      " [1.416e+03 2.000e+00]\n",
      " [3.000e+03 4.000e+00]\n",
      " [1.985e+03 4.000e+00]\n",
      " [1.534e+03 3.000e+00]\n",
      " [1.427e+03 3.000e+00]\n",
      " [1.380e+03 3.000e+00]\n",
      " [1.494e+03 3.000e+00]]\n",
      "-----------------------------------\n",
      "[[329900.]\n",
      " [369000.]\n",
      " [232000.]\n",
      " [539900.]\n",
      " [299900.]\n",
      " [314900.]\n",
      " [198999.]\n",
      " [212000.]\n",
      " [242500.]]\n"
     ]
    }
   ],
   "source": [
    "import numpy as np\n",
    "print(\"Loading data...\")\n",
    "\n",
    "# load data\n",
    "data = np.loadtxt(\"ex1data2.txt\", delimiter=\",\")\n",
    "X = np.array(data[:, :2])\n",
    "Y = np.array(data[:, 2:])\n",
    "m = len(Y)\n",
    "# print out some data points\n",
    "print(\"first 10 examples from the dataset:\")\n",
    "print(X[1:10, :])\n",
    "print(\"-----------------------------------\")\n",
    "print(Y[1:10, :])"
   ]
  },
  {
   "cell_type": "markdown",
   "metadata": {},
   "source": [
    "## 1-2 The implementation of Feature Normalize "
   ]
  },
  {
   "cell_type": "code",
   "execution_count": 2,
   "metadata": {},
   "outputs": [],
   "source": [
    "def feature_normalize(X):\n",
    "    mu = np.mean(X, axis = 0)\n",
    "    sigma = np.std(X, axis = 0)\n",
    "    X_norm = (X-mu)/sigma\n",
    "    return X_norm, mu, sigma"
   ]
  },
  {
   "cell_type": "markdown",
   "metadata": {},
   "source": [
    "## 1-3 Normalizing Feature"
   ]
  },
  {
   "cell_type": "code",
   "execution_count": 3,
   "metadata": {},
   "outputs": [],
   "source": [
    "X, mu, sigma = feature_normalize(X)"
   ]
  },
  {
   "cell_type": "markdown",
   "metadata": {},
   "source": [
    "# Part 2: Gradient Descent"
   ]
  },
  {
   "cell_type": "markdown",
   "metadata": {},
   "source": [
    "## 2-1 Setting the parameters of Grandient Descent"
   ]
  },
  {
   "cell_type": "code",
   "execution_count": 4,
   "metadata": {},
   "outputs": [],
   "source": [
    "alpha = 0.01\n",
    "num_iters = 1000\n",
    "theta = np.zeros([3, 1])\n",
    "X = np.hstack((np.ones([m, 1], dtype=float),X))"
   ]
  },
  {
   "cell_type": "markdown",
   "metadata": {},
   "source": [
    "## 2-2 The implements of Grandient Descent and Cost Function for multiple variables"
   ]
  },
  {
   "cell_type": "code",
   "execution_count": 5,
   "metadata": {},
   "outputs": [],
   "source": [
    "# cost function for multiple variables\n",
    "def compute_cost_multiple(X, Y, theta):\n",
    "    m = len(Y) # number of training examples\n",
    "    J = np.dot((np.dot(X, theta)-Y).T, (np.dot(X, theta)-Y)) / (2*m)\n",
    "    return J\n",
    "\n",
    "# gradient descent for multiple variables\n",
    "def gradient_descent_multiple(X, Y, theta, alpha, iters):\n",
    "    m = len(Y) # number of training examples\n",
    "    J_history = np.zeros([iters, 1])\n",
    "\n",
    "    for i in range(0, iters):\n",
    "        theta = theta - alpha/m * np.dot(X.T, (np.dot(X, theta)-Y))\n",
    "        J_history[i, 0] = compute_cost_multiple(X, Y, theta)\n",
    "    return J_history, theta"
   ]
  },
  {
   "cell_type": "markdown",
   "metadata": {},
   "source": [
    "## 2-3 Run and Plot convergence Graph"
   ]
  },
  {
   "cell_type": "code",
   "execution_count": 7,
   "metadata": {},
   "outputs": [
    {
     "data": {
      "image/png": "[encoded data removed]",
      "text/plain": [
       "<Figure size 432x288 with 1 Axes>"
      ]
     },
     "metadata": {
      "needs_background": "light"
     },
     "output_type": "display_data"
    }
   ],
   "source": [
    "# run \n",
    "J_history, theta = gradient_descent_multiple(X, Y, theta, alpha, num_iters)\n",
    "# plot the convergence graph\n",
    "import matplotlib.pyplot as plt\n",
    "plt.plot(np.linspace(1, 1000, 1000), J_history, linewidth=1)\n",
    "plt.xlabel(\"Number of interations\")\n",
    "plt.ylabel(\"Cost J\")\n",
    "plt.show()"
   ]
  },
  {
   "cell_type": "markdown",
   "metadata": {},
   "source": [
    "## 2-4 Display gradient descent's result"
   ]
  },
  {
   "cell_type": "code",
   "execution_count": 8,
   "metadata": {},
   "outputs": [
    {
     "name": "stdout",
     "output_type": "stream",
     "text": [
      "Theta computed form gradient descent:\n",
      "[[340412.65894002]\n",
      " [109439.22578243]\n",
      " [ -6569.78416695]]\n"
     ]
    }
   ],
   "source": [
    "print(\"Theta computed form gradient descent:\")\n",
    "print(theta)"
   ]
  },
  {
   "cell_type": "markdown",
   "metadata": {},
   "source": [
    "## 2-5 Estimate the price of a 1650 sq-ft, 3 br house"
   ]
  },
  {
   "cell_type": "code",
   "execution_count": 9,
   "metadata": {},
   "outputs": [
    {
     "name": "stdout",
     "output_type": "stream",
     "text": [
      "Predicted price of a 1650 sq-ft, 3 br house(using gradient descent): [[293083.34882732]]\n"
     ]
    }
   ],
   "source": [
    "tempX = (np.array([[1650, 3]]) - mu) / sigma\n",
    "price = np.dot(np.hstack((np.ones([1, 1]), tempX)), theta)\n",
    "print(\"Predicted price of a 1650 sq-ft, 3 br house(using gradient descent): \" + str(price))"
   ]
  },
  {
   "cell_type": "markdown",
   "metadata": {},
   "source": [
    "# Part 3: Normal Equations"
   ]
  },
  {
   "cell_type": "markdown",
   "metadata": {},
   "source": [
    "## 3-1 Load data"
   ]
  },
  {
   "cell_type": "code",
   "execution_count": 10,
   "metadata": {},
   "outputs": [
    {
     "name": "stdout",
     "output_type": "stream",
     "text": [
      "Solving with normal equations...\n"
     ]
    }
   ],
   "source": [
    "print(\"Solving with normal equations...\")\n",
    "# load data\n",
    "data = np.loadtxt(\"ex1data2.txt\", delimiter=\",\")\n",
    "X = np.array(data[:, :2])\n",
    "Y = np.array(data[:, 2:])\n",
    "m = len(Y)\n",
    "# add intercept term to X\n",
    "X = np.hstack((np.ones([m, 1]), X))"
   ]
  },
  {
   "cell_type": "markdown",
   "metadata": {},
   "source": [
    "## 3-2 The implement of Normal Equations"
   ]
  },
  {
   "cell_type": "code",
   "execution_count": 11,
   "metadata": {},
   "outputs": [],
   "source": [
    "def normal_equation(X, Y):\n",
    "    theta = np.zeros([np.size(X, axis=1), 1])\n",
    "    print(theta.shape)\n",
    "    theta = np.dot(np.dot(np.linalg.inv(np.dot(X.T, X)), X.T), Y)                   \n",
    "    return theta"
   ]
  },
  {
   "cell_type": "markdown",
   "metadata": {},
   "source": [
    "## 3-3 Calculate the parameters from the normal equation and Display"
   ]
  },
  {
   "cell_type": "code",
   "execution_count": 12,
   "metadata": {},
   "outputs": [
    {
     "name": "stdout",
     "output_type": "stream",
     "text": [
      "(3, 1)\n",
      "Theta computed from the normal equations:\n",
      "[[89597.9095428 ]\n",
      " [  139.21067402]\n",
      " [-8738.01911233]]\n"
     ]
    }
   ],
   "source": [
    "# calculate\n",
    "theta = normal_equation(X, Y)\n",
    "# display\n",
    "print(\"Theta computed from the normal equations:\")\n",
    "print(theta)"
   ]
  },
  {
   "cell_type": "markdown",
   "metadata": {},
   "source": [
    "## 3-4 Estimate the price of a 1650 sq-ft, 3 br house"
   ]
  },
  {
   "cell_type": "code",
   "execution_count": 13,
   "metadata": {},
   "outputs": [
    {
     "name": "stdout",
     "output_type": "stream",
     "text": [
      "Predicted price of a 1650 sq-ft, 3 br house(using gradient descent): [[293081.4643349]]\n"
     ]
    }
   ],
   "source": [
    "tempX = np.array([[1, 1650, 3]])\n",
    "price = np.dot(tempX, theta)\n",
    "print(\"Predicted price of a 1650 sq-ft, 3 br house(using gradient descent): \" + str(price))"
   ]
  }
 ],
 "metadata": {
  "kernelspec": {
   "display_name": "Python 3",
   "language": "python",
   "name": "python3"
  },
  "language_info": {
   "codemirror_mode": {
    "name": "ipython",
    "version": 3
   },
   "file_extension": ".py",
   "mimetype": "text/x-python",
   "name": "python",
   "nbconvert_exporter": "python",
   "pygments_lexer": "ipython3",
   "version": "3.6.8"
  }
 },
 "nbformat": 4,
 "nbformat_minor": 2
}
